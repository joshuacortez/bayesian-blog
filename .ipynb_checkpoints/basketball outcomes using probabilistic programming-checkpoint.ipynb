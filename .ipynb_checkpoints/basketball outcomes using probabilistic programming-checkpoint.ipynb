{
 "cells": [
  {
   "cell_type": "code",
   "execution_count": 1,
   "metadata": {
    "collapsed": false
   },
   "outputs": [],
   "source": [
    "import numpy as np\n",
    "import pandas as pd\n",
    "import pymc as pm\n",
    "import matplotlib.pyplot as plt\n",
    "from bs4 import BeautifulSoup\n",
    "import requests\n",
    "import re\n",
    "import seaborn as sns\n",
    "sns.set_style(\"whitegrid\")\n",
    "\n",
    "%matplotlib inline"
   ]
  },
  {
   "cell_type": "markdown",
   "metadata": {},
   "source": [
    "# Modeling UAAP Basketball Using Bayesian Networks\n",
    "\n"
   ]
  },
  {
   "cell_type": "markdown",
   "metadata": {},
   "source": [
    "I was interested in making a simple example to use Bayesian networks. I came across this [blog post by Daniel Weitzenfeld](http://danielweitzenfeld.github.io/passtheroc/blog/2014/10/28/bayes-premier-league/), which he based on this [paper](http://www.statistica.it/gianluca/Research/BaioBlangiardo.pdf). They tackled (pun not intended) football data, and thought to use their methods using basketball, the more popular sport in the Philippines.\n",
    "\n",
    "The University Athletic Association of the Philippines (UAAP) is a college sports league comprising of 8 universities. Every year, the 8 universities compete in 15 sports categories. UAAP basketball games are especially popular in Manila.\n",
    "\n",
    "We'll use points data from the first half of UAAP Season 79's men's basketball tournament to accomplish 2 things: *(1) uncover the latent offensive and defensive strengths of each team*, and *(2) simulate game outcomes for the second half of the season* (just before playoffs).\n",
    "\n",
    "This notebook will have 3 main parts:\n",
    "* Web scraping and data wrangling \n",
    "    * We'll scrape the data from Wikipedia and shape it into a format ready for modeling.\n",
    "* Modeling \n",
    "    * We'll model a Bayesian Network and \"estimate\" the model's parameters using Markov Chain Monte Carlo.\n",
    "* Simulation\n",
    "    * We'll simulate the rest of the season's games."
   ]
  },
  {
   "cell_type": "markdown",
   "metadata": {},
   "source": [
    "# Web Scraping to Grab Basketball Data\n"
   ]
  },
  {
   "cell_type": "markdown",
   "metadata": {},
   "source": [
    "We need to get historical data on final scores between every pair of teams. Conveniently, it's available on Wikipedia. So we'll use `beautifulsoup` to scrape the table that we need.\n",
    "\n",
    "We're only getting the data for Season 79 since UAAP teams signifcantly change the players on their rosters every year."
   ]
  },
  {
   "cell_type": "code",
   "execution_count": 2,
   "metadata": {
    "collapsed": true
   },
   "outputs": [],
   "source": [
    "# function that takes in a url and returns the table from the season\n",
    "def get_uaap_basketball(url):\n",
    "    try:\n",
    "        html = requests.get(url).text\n",
    "        soup = BeautifulSoup(html, 'html.parser')\n",
    "        content =  soup.find(\"span\", attrs = {\"class\":\"toctext\"}, text = \"Men's tournament\")\n",
    "        content = content.find_next(\"span\", attrs = {\"id\":[\"Scores\", \"Results\"]})\n",
    "        content = content.find_next(\"table\", attrs = {\"class\":\"wikitable\"})\n",
    "    except:\n",
    "        print(\"Error in getting table from {}\".format(url))\n",
    "    return content"
   ]
  },
  {
   "cell_type": "code",
   "execution_count": 3,
   "metadata": {
    "collapsed": false
   },
   "outputs": [],
   "source": [
    "# get the table for season 79 (the current season)\n",
    "url = \"https://en.wikipedia.org/wiki/UAAP_Season_79_basketball_tournaments\"\n",
    "season_table = get_uaap_basketball(url)"
   ]
  },
  {
   "cell_type": "markdown",
   "metadata": {},
   "source": [
    "We have the table, but it's still in HTML. Let's convert it to a pandas dataframe."
   ]
  },
  {
   "cell_type": "code",
   "execution_count": 4,
   "metadata": {
    "collapsed": false,
    "scrolled": true
   },
   "outputs": [
    {
     "data": {
      "text/html": [
       "<div>\n",
       "<table border=\"1\" class=\"dataframe\">\n",
       "  <thead>\n",
       "    <tr style=\"text-align: right;\">\n",
       "      <th></th>\n",
       "      <th>AdU</th>\n",
       "      <th>ADMU</th>\n",
       "      <th>DLSU</th>\n",
       "      <th>FEU</th>\n",
       "      <th>NU</th>\n",
       "      <th>UE</th>\n",
       "      <th>UP</th>\n",
       "      <th>UST</th>\n",
       "    </tr>\n",
       "  </thead>\n",
       "  <tbody>\n",
       "    <tr>\n",
       "      <th>AdU</th>\n",
       "      <td>NaN</td>\n",
       "      <td>62–61</td>\n",
       "      <td>75–91</td>\n",
       "      <td>65–75</td>\n",
       "      <td>64–51</td>\n",
       "      <td>57–64</td>\n",
       "      <td>104–85</td>\n",
       "      <td>79–52</td>\n",
       "    </tr>\n",
       "    <tr>\n",
       "      <th>ADMU</th>\n",
       "      <td>73–67</td>\n",
       "      <td>NaN</td>\n",
       "      <td>81–97</td>\n",
       "      <td>76–71</td>\n",
       "      <td>60–70</td>\n",
       "      <td>84–69</td>\n",
       "      <td>79–64</td>\n",
       "      <td>73–69</td>\n",
       "    </tr>\n",
       "    <tr>\n",
       "      <th>DLSU</th>\n",
       "      <td>86–79</td>\n",
       "      <td>71–83</td>\n",
       "      <td>NaN</td>\n",
       "      <td>83–78</td>\n",
       "      <td>75–66</td>\n",
       "      <td>84–78</td>\n",
       "      <td>89–71</td>\n",
       "      <td>100–62</td>\n",
       "    </tr>\n",
       "    <tr>\n",
       "      <th>FEU</th>\n",
       "      <td>59–61</td>\n",
       "      <td>59–74</td>\n",
       "      <td>67–73</td>\n",
       "      <td>NaN</td>\n",
       "      <td>78–75</td>\n",
       "      <td>67–59</td>\n",
       "      <td>51–49</td>\n",
       "      <td>79–72</td>\n",
       "    </tr>\n",
       "    <tr>\n",
       "      <th>NU</th>\n",
       "      <td>53–77</td>\n",
       "      <td>50–65</td>\n",
       "      <td>88–113</td>\n",
       "      <td>56–57</td>\n",
       "      <td>NaN</td>\n",
       "      <td>72–66</td>\n",
       "      <td>80–69</td>\n",
       "      <td>75–68</td>\n",
       "    </tr>\n",
       "    <tr>\n",
       "      <th>UE</th>\n",
       "      <td>71–79</td>\n",
       "      <td>61–75</td>\n",
       "      <td>66–95</td>\n",
       "      <td>61–64</td>\n",
       "      <td>52–64</td>\n",
       "      <td>NaN</td>\n",
       "      <td>71–75</td>\n",
       "      <td>87–88</td>\n",
       "    </tr>\n",
       "    <tr>\n",
       "      <th>UP</th>\n",
       "      <td>70–66</td>\n",
       "      <td>56–52</td>\n",
       "      <td>72–78</td>\n",
       "      <td>60–63</td>\n",
       "      <td>71–66</td>\n",
       "      <td>67–80</td>\n",
       "      <td>NaN</td>\n",
       "      <td>77–83</td>\n",
       "    </tr>\n",
       "    <tr>\n",
       "      <th>UST</th>\n",
       "      <td>61–76</td>\n",
       "      <td>64–74</td>\n",
       "      <td>56–99</td>\n",
       "      <td>48–59</td>\n",
       "      <td>73–69</td>\n",
       "      <td>61–71</td>\n",
       "      <td>69–75</td>\n",
       "      <td>NaN</td>\n",
       "    </tr>\n",
       "  </tbody>\n",
       "</table>\n",
       "</div>"
      ],
      "text/plain": [
       "        AdU   ADMU    DLSU    FEU     NU     UE      UP     UST\n",
       "AdU     NaN  62–61   75–91  65–75  64–51  57–64  104–85   79–52\n",
       "ADMU  73–67    NaN   81–97  76–71  60–70  84–69   79–64   73–69\n",
       "DLSU  86–79  71–83     NaN  83–78  75–66  84–78   89–71  100–62\n",
       "FEU   59–61  59–74   67–73    NaN  78–75  67–59   51–49   79–72\n",
       "NU    53–77  50–65  88–113  56–57    NaN  72–66   80–69   75–68\n",
       "UE    71–79  61–75   66–95  61–64  52–64    NaN   71–75   87–88\n",
       "UP    70–66  56–52   72–78  60–63  71–66  67–80     NaN   77–83\n",
       "UST   61–76  64–74   56–99  48–59  73–69  61–71   69–75     NaN"
      ]
     },
     "execution_count": 4,
     "metadata": {},
     "output_type": "execute_result"
    }
   ],
   "source": [
    "# convert the table in HTML to a pandas dataframe\n",
    "season_table = pd.read_html(str(season_table), flavor = \"bs4\", header = 0, index_col = 0)[0]\n",
    "season_table.index = season_table.columns\n",
    "season_table.replace(to_replace = \"–\", value = np.nan, inplace = True)\n",
    "season_table"
   ]
  },
  {
   "cell_type": "code",
   "execution_count": 5,
   "metadata": {
    "collapsed": false
   },
   "outputs": [
    {
     "data": {
      "text/html": [
       "<div>\n",
       "<table border=\"1\" class=\"dataframe\">\n",
       "  <thead>\n",
       "    <tr style=\"text-align: right;\">\n",
       "      <th></th>\n",
       "      <th>AdU</th>\n",
       "      <th>ADMU</th>\n",
       "      <th>DLSU</th>\n",
       "      <th>FEU</th>\n",
       "      <th>NU</th>\n",
       "      <th>UE</th>\n",
       "      <th>UP</th>\n",
       "      <th>UST</th>\n",
       "    </tr>\n",
       "  </thead>\n",
       "  <tbody>\n",
       "    <tr>\n",
       "      <th>AdU</th>\n",
       "      <td>NaN</td>\n",
       "      <td>62–61</td>\n",
       "      <td>75–91</td>\n",
       "      <td>65–75</td>\n",
       "      <td>64–51</td>\n",
       "      <td>57–64</td>\n",
       "      <td>104–85</td>\n",
       "      <td>79–52</td>\n",
       "    </tr>\n",
       "    <tr>\n",
       "      <th>ADMU</th>\n",
       "      <td>NaN</td>\n",
       "      <td>NaN</td>\n",
       "      <td>81–97</td>\n",
       "      <td>76–71</td>\n",
       "      <td>60–70</td>\n",
       "      <td>84–69</td>\n",
       "      <td>79–64</td>\n",
       "      <td>73–69</td>\n",
       "    </tr>\n",
       "    <tr>\n",
       "      <th>DLSU</th>\n",
       "      <td>NaN</td>\n",
       "      <td>NaN</td>\n",
       "      <td>NaN</td>\n",
       "      <td>83–78</td>\n",
       "      <td>75–66</td>\n",
       "      <td>84–78</td>\n",
       "      <td>89–71</td>\n",
       "      <td>100–62</td>\n",
       "    </tr>\n",
       "    <tr>\n",
       "      <th>FEU</th>\n",
       "      <td>NaN</td>\n",
       "      <td>NaN</td>\n",
       "      <td>NaN</td>\n",
       "      <td>NaN</td>\n",
       "      <td>78–75</td>\n",
       "      <td>67–59</td>\n",
       "      <td>51–49</td>\n",
       "      <td>79–72</td>\n",
       "    </tr>\n",
       "    <tr>\n",
       "      <th>NU</th>\n",
       "      <td>NaN</td>\n",
       "      <td>NaN</td>\n",
       "      <td>NaN</td>\n",
       "      <td>NaN</td>\n",
       "      <td>NaN</td>\n",
       "      <td>72–66</td>\n",
       "      <td>80–69</td>\n",
       "      <td>75–68</td>\n",
       "    </tr>\n",
       "    <tr>\n",
       "      <th>UE</th>\n",
       "      <td>NaN</td>\n",
       "      <td>NaN</td>\n",
       "      <td>NaN</td>\n",
       "      <td>NaN</td>\n",
       "      <td>NaN</td>\n",
       "      <td>NaN</td>\n",
       "      <td>71–75</td>\n",
       "      <td>87–88</td>\n",
       "    </tr>\n",
       "    <tr>\n",
       "      <th>UP</th>\n",
       "      <td>NaN</td>\n",
       "      <td>NaN</td>\n",
       "      <td>NaN</td>\n",
       "      <td>NaN</td>\n",
       "      <td>NaN</td>\n",
       "      <td>NaN</td>\n",
       "      <td>NaN</td>\n",
       "      <td>77–83</td>\n",
       "    </tr>\n",
       "    <tr>\n",
       "      <th>UST</th>\n",
       "      <td>NaN</td>\n",
       "      <td>NaN</td>\n",
       "      <td>NaN</td>\n",
       "      <td>NaN</td>\n",
       "      <td>NaN</td>\n",
       "      <td>NaN</td>\n",
       "      <td>NaN</td>\n",
       "      <td>NaN</td>\n",
       "    </tr>\n",
       "  </tbody>\n",
       "</table>\n",
       "</div>"
      ],
      "text/plain": [
       "      AdU   ADMU   DLSU    FEU     NU     UE      UP     UST\n",
       "AdU   NaN  62–61  75–91  65–75  64–51  57–64  104–85   79–52\n",
       "ADMU  NaN    NaN  81–97  76–71  60–70  84–69   79–64   73–69\n",
       "DLSU  NaN    NaN    NaN  83–78  75–66  84–78   89–71  100–62\n",
       "FEU   NaN    NaN    NaN    NaN  78–75  67–59   51–49   79–72\n",
       "NU    NaN    NaN    NaN    NaN    NaN  72–66   80–69   75–68\n",
       "UE    NaN    NaN    NaN    NaN    NaN    NaN   71–75   87–88\n",
       "UP    NaN    NaN    NaN    NaN    NaN    NaN     NaN   77–83\n",
       "UST   NaN    NaN    NaN    NaN    NaN    NaN     NaN     NaN"
      ]
     },
     "execution_count": 5,
     "metadata": {},
     "output_type": "execute_result"
    }
   ],
   "source": [
    "# we'll use the scraped data as of oct 5 2016 (when season is halfway)\n",
    "season_table = pd.read_csv(\"uaap_79_as_of_oct_5_2016.csv\", encoding = \"utf-8\", index_col = 0)\n",
    "season_table"
   ]
  },
  {
   "cell_type": "markdown",
   "metadata": {},
   "source": [
    "# Data Wrangling\n",
    "\n",
    "Great. We have a table in pandas. But we need it in a format where every row is a match between two teams."
   ]
  },
  {
   "cell_type": "code",
   "execution_count": 6,
   "metadata": {
    "collapsed": false
   },
   "outputs": [
    {
     "data": {
      "text/html": [
       "<div>\n",
       "<table border=\"1\" class=\"dataframe\">\n",
       "  <thead>\n",
       "    <tr style=\"text-align: right;\">\n",
       "      <th></th>\n",
       "      <th>home</th>\n",
       "      <th>away</th>\n",
       "      <th>home_score</th>\n",
       "      <th>away_score</th>\n",
       "    </tr>\n",
       "  </thead>\n",
       "  <tbody>\n",
       "    <tr>\n",
       "      <th>0</th>\n",
       "      <td>AdU</td>\n",
       "      <td>ADMU</td>\n",
       "      <td>62</td>\n",
       "      <td>61</td>\n",
       "    </tr>\n",
       "    <tr>\n",
       "      <th>1</th>\n",
       "      <td>AdU</td>\n",
       "      <td>DLSU</td>\n",
       "      <td>75</td>\n",
       "      <td>91</td>\n",
       "    </tr>\n",
       "    <tr>\n",
       "      <th>2</th>\n",
       "      <td>AdU</td>\n",
       "      <td>FEU</td>\n",
       "      <td>65</td>\n",
       "      <td>75</td>\n",
       "    </tr>\n",
       "    <tr>\n",
       "      <th>3</th>\n",
       "      <td>AdU</td>\n",
       "      <td>NU</td>\n",
       "      <td>64</td>\n",
       "      <td>51</td>\n",
       "    </tr>\n",
       "    <tr>\n",
       "      <th>4</th>\n",
       "      <td>AdU</td>\n",
       "      <td>UE</td>\n",
       "      <td>57</td>\n",
       "      <td>64</td>\n",
       "    </tr>\n",
       "  </tbody>\n",
       "</table>\n",
       "</div>"
      ],
      "text/plain": [
       "  home  away  home_score  away_score\n",
       "0  AdU  ADMU          62          61\n",
       "1  AdU  DLSU          75          91\n",
       "2  AdU   FEU          65          75\n",
       "3  AdU    NU          64          51\n",
       "4  AdU    UE          57          64"
      ]
     },
     "execution_count": 6,
     "metadata": {},
     "output_type": "execute_result"
    }
   ],
   "source": [
    "df = season_table.copy()\n",
    "rows = []\n",
    "for i in df.index:\n",
    "    for c in df.columns:\n",
    "        score = df.loc[i, c]\n",
    "        if pd.isnull(score):\n",
    "            continue\n",
    "        # remove all asterisks after string splitting on – (en dash)\n",
    "        score = [int(re.search(pattern = r\"([0-9]*)\\**\", string = row).group(1)) for row in score.split(\"–\")]\n",
    "        rows.append([i, c, score[0], score[1]])\n",
    "df = pd.DataFrame(rows, columns = ['home', 'away', 'home_score', 'away_score'])\n",
    "df.head()"
   ]
  },
  {
   "cell_type": "markdown",
   "metadata": {},
   "source": [
    "We also have to assign indices to every team. This will be helpful in the model later."
   ]
  },
  {
   "cell_type": "code",
   "execution_count": 7,
   "metadata": {
    "collapsed": false
   },
   "outputs": [
    {
     "data": {
      "text/html": [
       "<div>\n",
       "<table border=\"1\" class=\"dataframe\">\n",
       "  <thead>\n",
       "    <tr style=\"text-align: right;\">\n",
       "      <th></th>\n",
       "      <th>team</th>\n",
       "      <th>i</th>\n",
       "    </tr>\n",
       "  </thead>\n",
       "  <tbody>\n",
       "    <tr>\n",
       "      <th>0</th>\n",
       "      <td>ADMU</td>\n",
       "      <td>0</td>\n",
       "    </tr>\n",
       "    <tr>\n",
       "      <th>1</th>\n",
       "      <td>AdU</td>\n",
       "      <td>1</td>\n",
       "    </tr>\n",
       "    <tr>\n",
       "      <th>2</th>\n",
       "      <td>DLSU</td>\n",
       "      <td>2</td>\n",
       "    </tr>\n",
       "    <tr>\n",
       "      <th>3</th>\n",
       "      <td>FEU</td>\n",
       "      <td>3</td>\n",
       "    </tr>\n",
       "    <tr>\n",
       "      <th>4</th>\n",
       "      <td>NU</td>\n",
       "      <td>4</td>\n",
       "    </tr>\n",
       "    <tr>\n",
       "      <th>5</th>\n",
       "      <td>UE</td>\n",
       "      <td>5</td>\n",
       "    </tr>\n",
       "    <tr>\n",
       "      <th>6</th>\n",
       "      <td>UP</td>\n",
       "      <td>6</td>\n",
       "    </tr>\n",
       "    <tr>\n",
       "      <th>7</th>\n",
       "      <td>UST</td>\n",
       "      <td>7</td>\n",
       "    </tr>\n",
       "  </tbody>\n",
       "</table>\n",
       "</div>"
      ],
      "text/plain": [
       "   team  i\n",
       "0  ADMU  0\n",
       "1   AdU  1\n",
       "2  DLSU  2\n",
       "3   FEU  3\n",
       "4    NU  4\n",
       "5    UE  5\n",
       "6    UP  6\n",
       "7   UST  7"
      ]
     },
     "execution_count": 7,
     "metadata": {},
     "output_type": "execute_result"
    }
   ],
   "source": [
    "teams = np.unique(np.concatenate([df.away.unique(), df.home.unique()]))\n",
    "teams = pd.DataFrame(teams, columns=['team'])\n",
    "teams['i'] = teams.index\n",
    "teams"
   ]
  },
  {
   "cell_type": "markdown",
   "metadata": {},
   "source": [
    "Now we have the data in the format we need. Next part's defining the Bayesian network."
   ]
  },
  {
   "cell_type": "code",
   "execution_count": 8,
   "metadata": {
    "collapsed": false
   },
   "outputs": [
    {
     "data": {
      "text/html": [
       "<div>\n",
       "<table border=\"1\" class=\"dataframe\">\n",
       "  <thead>\n",
       "    <tr style=\"text-align: right;\">\n",
       "      <th></th>\n",
       "      <th>home</th>\n",
       "      <th>away</th>\n",
       "      <th>home_score</th>\n",
       "      <th>away_score</th>\n",
       "      <th>i_home</th>\n",
       "      <th>i_away</th>\n",
       "    </tr>\n",
       "  </thead>\n",
       "  <tbody>\n",
       "    <tr>\n",
       "      <th>0</th>\n",
       "      <td>AdU</td>\n",
       "      <td>ADMU</td>\n",
       "      <td>62</td>\n",
       "      <td>61</td>\n",
       "      <td>1</td>\n",
       "      <td>0</td>\n",
       "    </tr>\n",
       "    <tr>\n",
       "      <th>1</th>\n",
       "      <td>AdU</td>\n",
       "      <td>DLSU</td>\n",
       "      <td>75</td>\n",
       "      <td>91</td>\n",
       "      <td>1</td>\n",
       "      <td>2</td>\n",
       "    </tr>\n",
       "    <tr>\n",
       "      <th>2</th>\n",
       "      <td>AdU</td>\n",
       "      <td>FEU</td>\n",
       "      <td>65</td>\n",
       "      <td>75</td>\n",
       "      <td>1</td>\n",
       "      <td>3</td>\n",
       "    </tr>\n",
       "    <tr>\n",
       "      <th>3</th>\n",
       "      <td>AdU</td>\n",
       "      <td>NU</td>\n",
       "      <td>64</td>\n",
       "      <td>51</td>\n",
       "      <td>1</td>\n",
       "      <td>4</td>\n",
       "    </tr>\n",
       "    <tr>\n",
       "      <th>4</th>\n",
       "      <td>AdU</td>\n",
       "      <td>UE</td>\n",
       "      <td>57</td>\n",
       "      <td>64</td>\n",
       "      <td>1</td>\n",
       "      <td>5</td>\n",
       "    </tr>\n",
       "  </tbody>\n",
       "</table>\n",
       "</div>"
      ],
      "text/plain": [
       "  home  away  home_score  away_score  i_home  i_away\n",
       "0  AdU  ADMU          62          61       1       0\n",
       "1  AdU  DLSU          75          91       1       2\n",
       "2  AdU   FEU          65          75       1       3\n",
       "3  AdU    NU          64          51       1       4\n",
       "4  AdU    UE          57          64       1       5"
      ]
     },
     "execution_count": 8,
     "metadata": {},
     "output_type": "execute_result"
    }
   ],
   "source": [
    "df = pd.merge(df, teams, left_on='home', right_on='team', how='left')\n",
    "df = df.rename(columns = {'i': 'i_home'}).drop('team', 1)\n",
    "df = pd.merge(df, teams, left_on='away', right_on='team', how='left')\n",
    "df = df.rename(columns = {'i': 'i_away'}).drop('team', 1)\n",
    "df.head()"
   ]
  },
  {
   "cell_type": "markdown",
   "metadata": {},
   "source": [
    "# Bayesian Network Model\n",
    "\n",
    "The data we have is points scored for each game $g$: $(y_{g1}, y_{g2})$. The total points for the first team (home team) is $y_{g1}$, and the total points for the second team (away team) is $y_{g2}$. Just from using points data, we can do the following using a Bayesian Network:\n",
    "\n",
    "1. *Uncover latent offensive and defensive strengths for each team.*\n",
    "2. *Simulate the points scored of any two teams if they played against each other.*\n",
    "\n",
    "## Poisson\n",
    "\n",
    "Now let's set up the variables that make up this network. Remember that the Poisson distribution's good for modeling count data. So we're modelling the $y_{gj}$ as Poisson each with rate $\\theta_{gj}$:\n",
    "$$y_{gj} \\sim Poisson(\\theta_{gj})$$\n",
    "\n",
    "The rate $\\theta_{gj}$ can be interpreted as the average number of points scored by team $j$ if it's playing multiple games against the other team it played with in game $g$. For example, let's say in game 3 we have FEU go against NU. Then, the theta of FEU, $\\theta_{31}$, is the expected number of points it will score against NU if they played with each other again with the same players.\n",
    "\n",
    "## Log-linear model of theta\n",
    "\n",
    "The points scored by a certain team, say FEU, is very dependent on which team it faces. We expect FEU to score lower points on average if it's going against tougher teams.\n",
    "\n",
    "To make sure this is captured by our model, we introduce the components that make up each $\\theta_{gj}$.\n",
    "\n",
    "$$\\theta_{g1} = exp(intercept + home + offense_{g1} - defense_{g2})$$\n",
    "$$\\theta_{g2} = exp(intercept + offense_{g2} - defense_{g1})$$\n",
    "\n",
    "We're using the exponential of the latent parameters since the theta parameters should be positive values (average number of points scored can't be negative!).\n",
    "\n",
    "Equivalently, we can have this log-linear formulation:\n",
    "\n",
    "$$log(\\theta_{g1}) = intercept + home + offense_{g1} - defense_{g2}$$\n",
    "$$log(\\theta_{g2}) = intercept + offense_{g2} - defense_{g1}$$\n",
    "\n",
    "This model says that a team's propensity to score points (theta) gets **pulled up** by the team's offense, and gets **pulled down** by the opposing team's defense. Home court advantage (if it exists) also serves to **pull up** points. \n",
    "\n",
    "The intercept parameter serves as a baseline number of points in *any* basketball game. For example, no matter how bad or how good the teams are, you don't expect a team playing for around 48 minutes to end up with only 30 points. Like home court advantage, intercept is independent of the teams.\n",
    "\n",
    "<img src = \"images/bayesian network light.png\", height = 350, width = 350>\n",
    "\n",
    "## Putting things in perspective\n",
    "\n",
    "From our the points data $(y_{g1}, y_{g2})$ that we can observe, we can figure out the latent parameters (no home court advantage in the UAAP setting): \n",
    "* $intercept$\n",
    "* $offense_{g1}$, $offense_{g2}$\n",
    "* $defense_{g1}$, $defense_{g2}$\n",
    "\n",
    "## Defining priors\n",
    "\n",
    "Before we can estimate the latent parameters, we need to specify prior distributions for each since we're in the Bayesian setting. I've copied Daniel Weitzenfeld and defined uninformative priors.\n",
    "\n",
    "* $intercept \\sim Normal(0, 10000)$\n",
    "* $offense_t \\sim Normal(\\mu_{off_t}, 1/{\\tau_{off_t}})$\n",
    "* $defense_t \\sim Normal(\\mu_{def_t}, 1/{\\tau_{def_t}})$\n",
    "\n",
    "where\n",
    "\n",
    "* $\\mu_{off_t} \\sim Normal(0, 10000)$\n",
    "* $\\mu_{def_t} \\sim Normal(0, 10000)$\n",
    "* $\\tau_{off_t} \\sim Gamma(0.1, 0.1)$ \n",
    "* $\\tau_{def_t} \\sim Gamma(0.1, 0.1)$\n",
    "* $\\sum\\limits_{t = 1}^N {offense_t} = 0$\n",
    "* $\\sum\\limits_{t = 1}^N {defense_t} = 0$\n",
    "\n",
    "The last two sum-to-zero constraints ensure that the parameters are *identifiable*.\n",
    "\n",
    "We'll use the magic of the Metropolis-Hastings algorithm to estimate the variables we've defined. "
   ]
  },
  {
   "cell_type": "markdown",
   "metadata": {},
   "source": [
    "# Setting Up the Model\n",
    "\n",
    "Before running the algorithm, we'll define some necessary constants."
   ]
  },
  {
   "cell_type": "code",
   "execution_count": 9,
   "metadata": {
    "collapsed": false
   },
   "outputs": [],
   "source": [
    "# observed data\n",
    "observed_home_goals = df.home_score.values\n",
    "observed_away_goals = df.away_score.values\n",
    "\n",
    "# constants \n",
    "home_team = df.i_home.values\n",
    "away_team = df.i_away.values\n",
    "num_teams = len(teams)\n",
    "num_games = df.shape[0]"
   ]
  },
  {
   "cell_type": "markdown",
   "metadata": {},
   "source": [
    "Let's also define good starting values for the priors of $offense_t$ and $defense_t$. This helps the algorithm \"sketch out\" the posteriors faster. \n",
    "\n",
    "We'll use the log means of the home scores and away scores for each team."
   ]
  },
  {
   "cell_type": "code",
   "execution_count": 10,
   "metadata": {
    "collapsed": false
   },
   "outputs": [
    {
     "data": {
      "text/html": [
       "<div>\n",
       "<table border=\"1\" class=\"dataframe\">\n",
       "  <thead>\n",
       "    <tr style=\"text-align: right;\">\n",
       "      <th></th>\n",
       "      <th>defense</th>\n",
       "      <th>offense</th>\n",
       "    </tr>\n",
       "  </thead>\n",
       "  <tbody>\n",
       "    <tr>\n",
       "      <th>0</th>\n",
       "      <td>4.324133</td>\n",
       "      <td>4.110874</td>\n",
       "    </tr>\n",
       "    <tr>\n",
       "      <th>1</th>\n",
       "      <td>4.280627</td>\n",
       "      <td>4.263606</td>\n",
       "    </tr>\n",
       "    <tr>\n",
       "      <th>2</th>\n",
       "      <td>4.456670</td>\n",
       "      <td>4.543295</td>\n",
       "    </tr>\n",
       "    <tr>\n",
       "      <th>3</th>\n",
       "      <td>4.230477</td>\n",
       "      <td>4.313034</td>\n",
       "    </tr>\n",
       "    <tr>\n",
       "      <th>4</th>\n",
       "      <td>4.326338</td>\n",
       "      <td>4.182050</td>\n",
       "    </tr>\n",
       "    <tr>\n",
       "      <th>5</th>\n",
       "      <td>4.369448</td>\n",
       "      <td>4.207673</td>\n",
       "    </tr>\n",
       "    <tr>\n",
       "      <th>6</th>\n",
       "      <td>4.343805</td>\n",
       "      <td>4.231688</td>\n",
       "    </tr>\n",
       "    <tr>\n",
       "      <th>7</th>\n",
       "      <td>4.333071</td>\n",
       "      <td>4.256625</td>\n",
       "    </tr>\n",
       "  </tbody>\n",
       "</table>\n",
       "</div>"
      ],
      "text/plain": [
       "    defense   offense\n",
       "0  4.324133  4.110874\n",
       "1  4.280627  4.263606\n",
       "2  4.456670  4.543295\n",
       "3  4.230477  4.313034\n",
       "4  4.326338  4.182050\n",
       "5  4.369448  4.207673\n",
       "6  4.343805  4.231688\n",
       "7  4.333071  4.256625"
      ]
     },
     "execution_count": 10,
     "metadata": {},
     "output_type": "execute_result"
    }
   ],
   "source": [
    "g = df.groupby('i_away')\n",
    "att_starting_points = np.log(g.away_score.mean())\n",
    "g = df.groupby('i_home')\n",
    "def_starting_points = np.log(g.home_score.mean())\n",
    "starting_points = pd.DataFrame({\"offense\": att_starting_points, \"defense\": def_starting_points})\n",
    "starting_points.fillna(starting_points.mean(), inplace = True)\n",
    "starting_points"
   ]
  },
  {
   "cell_type": "markdown",
   "metadata": {},
   "source": [
    "Now it's time to dive into the heart of probabilistic programming - defining how the random variables relate to each other."
   ]
  },
  {
   "cell_type": "code",
   "execution_count": 11,
   "metadata": {
    "collapsed": false
   },
   "outputs": [],
   "source": [
    "# builds the model from the \"bottom up\" (starting from the hyperpriors)\n",
    "\n",
    "# no home court advantage in UAAP basketball\n",
    "home = 0\n",
    "\n",
    "# hyperpriors\n",
    "tau_att = pm.Gamma('tau_att', 0.1, 0.1, value=10)\n",
    "tau_def = pm.Gamma('tau_def', 0.1, 0.1, value=10)\n",
    "intercept = pm.Normal('intercept', 0, 0.0001, value=0)\n",
    "\n",
    "# team-specific parameters\n",
    "atts_star = pm.Normal(\"atts_star\", \n",
    "                        mu = 0, \n",
    "                        tau = tau_att, \n",
    "                        size = num_teams, \n",
    "                        value = starting_points.offense.values)\n",
    "defs_star = pm.Normal(\"defs_star\", \n",
    "                        mu = 0, \n",
    "                        tau = tau_def, \n",
    "                        size = num_teams, \n",
    "                        value = starting_points.defense.values) \n",
    "\n",
    "\n",
    "# trick to code the sum to zero contraint\n",
    "@pm.deterministic\n",
    "def atts(atts_star=atts_star):\n",
    "    atts = atts_star.copy()\n",
    "    atts = atts - np.mean(atts_star) \n",
    "    return atts\n",
    "@pm.deterministic\n",
    "def defs(defs_star=defs_star):\n",
    "    defs = defs_star.copy()\n",
    "    defs = defs - np.mean(defs_star)\n",
    "    return defs\n",
    "\n",
    "@pm.deterministic\n",
    "def home_theta(home_team=home_team, \n",
    "               away_team=away_team, \n",
    "               home=home, \n",
    "               atts=atts, \n",
    "               defs=defs, \n",
    "               intercept=intercept):\n",
    "    \n",
    "    return np.exp(intercept + \n",
    "                  home + \n",
    "                  atts[home_team] - \n",
    "                  defs[away_team])\n",
    "@pm.deterministic\n",
    "def away_theta(home_team=home_team, \n",
    "               away_team=away_team, \n",
    "               home=home, \n",
    "               atts=atts, \n",
    "               defs=defs, \n",
    "               intercept=intercept): \n",
    "    \n",
    "    return np.exp(intercept + \n",
    "                  atts[away_team] - \n",
    "                  defs[home_team])   \n",
    "\n",
    "\n",
    "home_goals = pm.Poisson('home_goals', \n",
    "                          mu=home_theta, \n",
    "                          value=observed_home_goals, \n",
    "                          observed=True)\n",
    "away_goals = pm.Poisson('away_goals', \n",
    "                          mu=away_theta, \n",
    "                          value=observed_away_goals, \n",
    "                          observed=True)"
   ]
  },
  {
   "cell_type": "markdown",
   "metadata": {},
   "source": [
    "# Sampling from the Posteriors\n",
    "\n",
    "With the model set up, we can now sample from posteriors of all of the variables."
   ]
  },
  {
   "cell_type": "code",
   "execution_count": 12,
   "metadata": {
    "collapsed": false
   },
   "outputs": [
    {
     "name": "stdout",
     "output_type": "stream",
     "text": [
      " [-----------------100%-----------------] 500000 of 500000 complete in 134.3 sec"
     ]
    }
   ],
   "source": [
    "# put all the variables inside the MCMC to get ready to \"crank\" the algorithm\n",
    "mcmc = pm.MCMC([home, intercept, tau_att, tau_def, \n",
    "                  home_theta, away_theta, \n",
    "                  atts_star, defs_star, atts, defs, \n",
    "                  home_goals, away_goals])\n",
    "\n",
    "map_ = pm.MAP(mcmc)\n",
    "map_.fit()\n",
    "iters = 500000\n",
    "mcmc.sample(iters, burn = iters/3, thin = 20)"
   ]
  },
  {
   "cell_type": "markdown",
   "metadata": {},
   "source": [
    "# Visualizing the offense and defense parameters\n",
    "\n",
    "Now we'll answer our first goal: *uncovering the latent offensive and defensive strengths of each team*.\n",
    "\n",
    "When we perform Bayesian inference, we don't get a point estimate, we get an *entire distribution*. In our case, we have distributions for the offensive and defensive strengths of each team.\n",
    "\n",
    "In order to make it easer to understand and visualize, we're going to get the medians and the standard deviations of those distributions we got."
   ]
  },
  {
   "cell_type": "code",
   "execution_count": 13,
   "metadata": {
    "collapsed": false
   },
   "outputs": [
    {
     "name": "stderr",
     "output_type": "stream",
     "text": [
      "/Users/joshuacortez/anaconda3/lib/python3.5/site-packages/numpy/core/fromnumeric.py:224: VisibleDeprecationWarning: using a non-integer number instead of an integer will result in an error in the future\n",
      "  return reshape(newshape, order=order)\n"
     ]
    }
   ],
   "source": [
    "df_summary = pd.DataFrame({\"median_att\": atts.stats()[\"quantiles\"][50],\n",
    "                       \"std_att\": atts.stats()[\"standard deviation\"],\n",
    "                       \"median_def\": defs.stats()[\"quantiles\"][50],\n",
    "                       \"std_def\": defs.stats()[\"standard deviation\"]},\n",
    "                      index=teams.team.values)"
   ]
  },
  {
   "cell_type": "markdown",
   "metadata": {},
   "source": [
    "We can now visualize what's going on with our teams. Clearly, DLSU is far ahead of the curve because of its offense. The offense makes up for its average defense. It is no surprise that they haven't lost a game in the first half of the season."
   ]
  },
  {
   "cell_type": "code",
   "execution_count": 14,
   "metadata": {
    "collapsed": false
   },
   "outputs": [
    {
     "data": {
      "image/png": "[encoded data removed]",
      "text/plain": [
       "<matplotlib.figure.Figure at 0x1145475c0>"
      ]
     },
     "metadata": {},
     "output_type": "display_data"
    }
   ],
   "source": [
    "fig, ax = plt.subplots(figsize=(8,6))\n",
    "for label, x, y in zip(df_summary.index.values, df_summary.median_att.values, df_summary.median_def.values):\n",
    "    ax.scatter(x,y)\n",
    "    ax.annotate(label, xy=(x,y), xytext = (-5,5), textcoords = 'offset points')\n",
    "ax.set_xlabel(\"Offensive Strength (Median)\")\n",
    "ax.set_ylabel(\"Defensive Strength (Median)\")\n",
    "plt.title(\"Collegiate Basketball Teams' Attributes\")\n",
    "plt.show()"
   ]
  },
  {
   "cell_type": "markdown",
   "metadata": {},
   "source": [
    "This time, let's compare just the offensive strengths. I've added error bars to show a 95% credible interval (the Bayesian version of a confidence interval).\n",
    "\n",
    "All teams aside from DLSU aren't significantly different from each other."
   ]
  },
  {
   "cell_type": "code",
   "execution_count": 15,
   "metadata": {
    "collapsed": false
   },
   "outputs": [
    {
     "name": "stderr",
     "output_type": "stream",
     "text": [
      "/Users/joshuacortez/anaconda3/lib/python3.5/site-packages/numpy/core/fromnumeric.py:224: VisibleDeprecationWarning: using a non-integer number instead of an integer will result in an error in the future\n",
      "  return reshape(newshape, order=order)\n"
     ]
    },
    {
     "data": {
      "image/png": "[encoded data removed]",
      "text/plain": [
       "<matplotlib.figure.Figure at 0x11562cc50>"
      ]
     },
     "metadata": {},
     "output_type": "display_data"
    }
   ],
   "source": [
    "df_hpd = pd.DataFrame(atts.stats()['95% HPD interval'].transpose(), \n",
    "                      columns=['hpd_low', 'hpd_high'], \n",
    "                      index=teams.team.values)\n",
    "df_median = pd.DataFrame(atts.stats()['quantiles'][50], \n",
    "                         columns=['hpd_median'], \n",
    "                         index=teams.team.values)\n",
    "\n",
    "df_hpd = df_hpd.join(df_median)\n",
    "df_hpd['relative_lower'] = df_hpd.hpd_median - df_hpd.hpd_low\n",
    "df_hpd['relative_upper'] = df_hpd.hpd_high - df_hpd.hpd_median\n",
    "df_hpd = df_hpd.sort_values(by='hpd_median')\n",
    "df_hpd = df_hpd.reset_index()\n",
    "df_hpd['x'] = df_hpd.index + 0.5\n",
    "fig, axs = plt.subplots(figsize=(10,4))\n",
    "axs.errorbar(df_hpd.x, df_hpd.hpd_median, \n",
    "             yerr=(df_hpd[['relative_lower', 'relative_upper']].values).T, \n",
    "             fmt='o')\n",
    "axs.set_title('95% Credible Interval of Offensive Strength, by Team')\n",
    "axs.set_xlabel('Team')\n",
    "axs.set_ylabel('Posterior Offensive Strength')\n",
    "_= axs.set_xticks(df_hpd.index + .5)\n",
    "_= axs.set_xticklabels(df_hpd['index'].values, rotation=45)"
   ]
  },
  {
   "cell_type": "markdown",
   "metadata": {},
   "source": [
    "Now let's graph the 95% credible intervals of the defensive strengths.\n",
    "\n",
    "There seem to be three tiers of defensive strength:\n",
    "- Top (Adu, NU, FEU)\n",
    "- Middle (DLSU, UE, ADMU)\n",
    "- Bottom (UST, UP)"
   ]
  },
  {
   "cell_type": "code",
   "execution_count": 16,
   "metadata": {
    "collapsed": false
   },
   "outputs": [
    {
     "name": "stderr",
     "output_type": "stream",
     "text": [
      "/Users/joshuacortez/anaconda3/lib/python3.5/site-packages/numpy/core/fromnumeric.py:224: VisibleDeprecationWarning: using a non-integer number instead of an integer will result in an error in the future\n",
      "  return reshape(newshape, order=order)\n"
     ]
    },
    {
     "data": {
      "image/png": "[encoded data removed]",
      "text/plain": [
       "<matplotlib.figure.Figure at 0x114511320>"
      ]
     },
     "metadata": {},
     "output_type": "display_data"
    }
   ],
   "source": [
    "df_hpd = pd.DataFrame(defs.stats()['95% HPD interval'].transpose(), \n",
    "                      columns=['hpd_low', 'hpd_high'], \n",
    "                      index=teams.team.values)\n",
    "df_median = pd.DataFrame(defs.stats()['quantiles'][50], \n",
    "                         columns=['hpd_median'], \n",
    "                         index=teams.team.values)\n",
    "\n",
    "df_hpd = df_hpd.join(df_median)\n",
    "df_hpd['relative_lower'] = df_hpd.hpd_median - df_hpd.hpd_low\n",
    "df_hpd['relative_upper'] = df_hpd.hpd_high - df_hpd.hpd_median\n",
    "df_hpd = df_hpd.sort_values(by='hpd_median')\n",
    "df_hpd = df_hpd.reset_index()\n",
    "df_hpd['x'] = df_hpd.index + 0.5\n",
    "fig, axs = plt.subplots(figsize=(10,4))\n",
    "axs.errorbar(df_hpd.x, df_hpd.hpd_median, \n",
    "             yerr=(df_hpd[['relative_lower', 'relative_upper']].values).T, \n",
    "             fmt='o')\n",
    "axs.set_title('95% Credible Interval of Defensive Strength, by Team')\n",
    "axs.set_xlabel('Team')\n",
    "axs.set_ylabel('Posterior Defensive Strength')\n",
    "_= axs.set_xticks(df_hpd.index + .5)\n",
    "_= axs.set_xticklabels(df_hpd['index'].values, rotation=45)"
   ]
  },
  {
   "cell_type": "markdown",
   "metadata": {},
   "source": [
    "# Simulating the upcoming games\n",
    "\n",
    "On to our second goal: *simulating the games for the second half of the season*. Using the simulated games, we can predict the team rankings just before the playoffs.\n",
    "\n",
    "Simulating takes some work to code. The functions below all build up to the `sim_season` function."
   ]
  },
  {
   "cell_type": "code",
   "execution_count": 17,
   "metadata": {
    "collapsed": false
   },
   "outputs": [],
   "source": [
    "# gets the games in the season that have yet to occur\n",
    "# input: a dataframe of game scores (the original format scraped from wikipedia)\n",
    "# returns: a list of dictionaries with two key value pairs: the home team name and the away team name\n",
    "\n",
    "def get_unseen_games(season_table):\n",
    "    unseen_games = []\n",
    "    for home_team in season_table.index:\n",
    "        for away_team in season_table.index:\n",
    "            if home_team != away_team:\n",
    "                game = season_table.loc[home_team,away_team]\n",
    "                if pd.isnull(game):\n",
    "                    game_dict = {}\n",
    "                    game_dict[\"home\"] = home_team\n",
    "                    game_dict[\"away\"] = away_team\n",
    "                    unseen_games.append(game_dict)\n",
    "    return unseen_games"
   ]
  },
  {
   "cell_type": "code",
   "execution_count": 18,
   "metadata": {
    "collapsed": false
   },
   "outputs": [],
   "source": [
    "# simulates the scores of a game between two teams\n",
    "# input: names of the teams, the traces of the attack and defense strengths, \n",
    "# the trace of the intercept and the home court advantage (here its zero)\n",
    "# returns: indices of the teams, and points scored per team\n",
    "\n",
    "def simulate_game(home_team, away_team, teams_df = teams, atts = atts, defs = defs, intercept = intercept, home = home):\n",
    "    teams_to_idx = dict(zip(teams_df.team.values, teams_df.i.values))\n",
    "    home_idx = teams_to_idx[home_team]\n",
    "    away_idx = teams_to_idx[away_team]\n",
    "    \n",
    "    home_att = np.random.choice(atts.trace()[home_idx])\n",
    "    away_att = np.random.choice(atts.trace()[away_idx])\n",
    "    \n",
    "    home_def = np.random.choice(defs.trace()[home_idx])\n",
    "    away_def = np.random.choice(defs.trace()[away_idx])\n",
    "    \n",
    "    # in the case home court advantage really exists\n",
    "    if intercept:\n",
    "        intercept = np.random.choice(intercept.trace())\n",
    "    \n",
    "    if home:\n",
    "        home = np.random.choice(home.trace())\n",
    "    \n",
    "    home_theta = np.exp(intercept + \n",
    "                  home + \n",
    "                  home_att - \n",
    "                  away_def)\n",
    "    \n",
    "    away_theta = np.exp(intercept + \n",
    "                  home + \n",
    "                  away_att -\n",
    "                  home_def)\n",
    "    \n",
    "    home_points = np.random.poisson(lam = home_theta)\n",
    "    away_points = np.random.poisson(lam = away_theta)\n",
    "    \n",
    "    # in the case of overtime(s)\n",
    "    while home_points == away_points:\n",
    "        #print(\"Overtime!\")\n",
    "        home_points_ot = np.round(np.random.poisson(lam = home_theta)/4)\n",
    "        home_points += int(home_points_ot)\n",
    "        \n",
    "        away_points_ot = np.round(np.random.poisson(lam = away_theta)/4)\n",
    "        away_points += int(away_points_ot)\n",
    "        \n",
    "    return home_idx, away_idx, home_points, away_points"
   ]
  },
  {
   "cell_type": "code",
   "execution_count": 19,
   "metadata": {
    "collapsed": false
   },
   "outputs": [],
   "source": [
    "# simulates a game between two teams n times and gives the probability of the first team winning\n",
    "\n",
    "# input: names of the teams, number of simulations,\n",
    "# traces of the attack and defense strengths,\n",
    "# traces of the intercept and home court advantage\n",
    "# returns: probability of a home win\n",
    "\n",
    "def game_multiple_sims(home_team, away_team, n_sims = 1000, teams_df = teams, atts = atts, defs = defs, intercept = intercept, home = home):\n",
    "    wins_home = np.array([])\n",
    "    for sim in range(n_sims):\n",
    "        game_sim = simulate_game(home_team, away_team, teams_df = teams, atts = atts, defs = defs, intercept = intercept, home = home)\n",
    "        is_home_win = game_sim[0] > game_sim[1]\n",
    "        wins_home = np.append(wins_home, is_home_win)\n",
    "    prob_home_win = wins_home.mean()\n",
    "    return prob_home_win"
   ]
  },
  {
   "cell_type": "code",
   "execution_count": 20,
   "metadata": {
    "collapsed": false
   },
   "outputs": [],
   "source": [
    "# helper function that checks which team has a higher score\n",
    "\n",
    "def get_winner(row):\n",
    "    is_home_win = row[\"home_score\"] > row[\"away_score\"]\n",
    "    if is_home_win:\n",
    "        return row[\"home\"]\n",
    "    else:\n",
    "        return row[\"away\"]"
   ]
  },
  {
   "cell_type": "code",
   "execution_count": 21,
   "metadata": {
    "collapsed": true
   },
   "outputs": [],
   "source": [
    "# putting everything together and simulating a whole season n times\n",
    "\n",
    "def sim_season(n_sims = 1000, season_table = season_table, df = df):\n",
    "    print(\"Simulating team season rankings ({} simulations)\".format(n_sims))\n",
    "    \n",
    "    # create a placeholder of simulated rankings per team\n",
    "    sim_rankings_per_team = {}\n",
    "    for team in season_table.index.tolist():\n",
    "        sim_rankings_per_team[team] = np.repeat(0, repeats = season_table.shape[0])\n",
    "           \n",
    "    # get the known games\n",
    "    seen_games = df\n",
    "    \n",
    "    # get the unseen (upcoming) games\n",
    "    unseen_games = get_unseen_games(season_table)\n",
    "    \n",
    "    # simulate the rest of the season\n",
    "    for sim in range(n_sims):\n",
    "        simmed_games = unseen_games\n",
    "        for game in simmed_games:\n",
    "            game[\"i_home\"], game[\"i_away\"], game[\"home_score\"], game[\"away_score\"] = simulate_game(game[\"home\"], game[\"away\"])\n",
    "        \n",
    "        full_season = seen_games.append(pd.DataFrame(simmed_games))\n",
    "        full_season[\"winner\"] = full_season.apply(get_winner, axis = 1)\n",
    "        \n",
    "        # rank the teams by number of wins in the regular season\n",
    "        ranked_teams = full_season.groupby(\"winner\").count().home.sort_values(ascending = False)\n",
    "        \n",
    "        # in the case of ties in the number of wins... (let's fix that later)\n",
    "        \n",
    "        # count the number of teams each team finished 1st, 2nd, 3rd, ...\n",
    "        for rank, team in enumerate(ranked_teams.index):\n",
    "            sim_rankings_per_team[team][rank] += 1\n",
    "        \n",
    "    return sim_rankings_per_team"
   ]
  },
  {
   "cell_type": "code",
   "execution_count": 22,
   "metadata": {
    "collapsed": false
   },
   "outputs": [
    {
     "name": "stdout",
     "output_type": "stream",
     "text": [
      "Simulating team season rankings (10000 simulations)\n"
     ]
    }
   ],
   "source": [
    "results = sim_season(n_sims = 10000)"
   ]
  },
  {
   "cell_type": "markdown",
   "metadata": {},
   "source": [
    "Now we've simulated an entire season. Let's understand its results by generating a heat map that shows the probability of a team ending up in 1st, 2nd, 3rd, etc. place. \n",
    "\n",
    "Just a few more steps takes us to the heat map below."
   ]
  },
  {
   "cell_type": "code",
   "execution_count": 23,
   "metadata": {
    "collapsed": false
   },
   "outputs": [],
   "source": [
    "# converting the number of occurences into probabilities\n",
    "for team in results:\n",
    "    results[team] = results[team]/results[team].sum()"
   ]
  },
  {
   "cell_type": "code",
   "execution_count": 24,
   "metadata": {
    "collapsed": false
   },
   "outputs": [],
   "source": [
    "df_sim = pd.DataFrame(results)\n",
    "df_sim.index = df_sim.index + 1"
   ]
  },
  {
   "cell_type": "code",
   "execution_count": 25,
   "metadata": {
    "collapsed": false
   },
   "outputs": [
    {
     "data": {
      "image/png": "[encoded data removed]",
      "text/plain": [
       "<matplotlib.figure.Figure at 0x1154f9f98>"
      ]
     },
     "metadata": {},
     "output_type": "display_data"
    }
   ],
   "source": [
    "sns.heatmap(df_sim, annot = True)\n",
    "plt.yticks(np.arange(0.5, len(df_sim.index), 1), df_sim.index[::-1])\n",
    "plt.xticks(np.arange(0.5, len(df_sim.columns), 1), df_sim.columns)\n",
    "plt.title(\"Probabilities of Finishing in nth Place\")\n",
    "plt.show()"
   ]
  },
  {
   "cell_type": "markdown",
   "metadata": {
    "collapsed": true
   },
   "source": [
    "Again, DLSU is very much favored to end up in first place. In reality, they indeed were the men's basketball champions for Season 79. "
   ]
  },
  {
   "cell_type": "markdown",
   "metadata": {},
   "source": [
    "Endnotes\n",
    "\n",
    "In hindsight, the probabilities shown in the heat map didn't convey new insights. If you take the team with the highest probability on every rank, you'll get the same team rankings as the team rankings at the end of the 1st half of the season. DLSU was still 1st, UE was still 8th, etc.\n",
    "\n",
    "Perhaps this was a result of overextending the intended use of this modelling approach in the original paper. The original paper's goal was to predict the total number of goals in a season of football matches. In my case, I took the extra step of simulating win/loss records from the simulated number of points in every game. I suspect that the simulations of the 2nd half of the season are simply coin tosses, so the predicted rankings are no different from the rankings at the end of the 1st half of the season.\n",
    "\n",
    "In any case, it was a fun learning experience. Probabilistic programming is a great framework to have in the toolbox apart from blackbox machine lerning and traditional frequentist statistics. It takes more work to set up the priors and the dependencies among the random variables, but it results in a modelling approach that's both interpretable and flexible."
   ]
  },
  {
   "cell_type": "code",
   "execution_count": null,
   "metadata": {
    "collapsed": true
   },
   "outputs": [],
   "source": []
  }
 ],
 "metadata": {
  "anaconda-cloud": {},
  "kernelspec": {
   "display_name": "Python [conda root]",
   "language": "python",
   "name": "conda-root-py"
  },
  "language_info": {
   "codemirror_mode": {
    "name": "ipython",
    "version": 3
   },
   "file_extension": ".py",
   "mimetype": "text/x-python",
   "name": "python",
   "nbconvert_exporter": "python",
   "pygments_lexer": "ipython3",
   "version": "3.5.2"
  }
 },
 "nbformat": 4,
 "nbformat_minor": 1
}
